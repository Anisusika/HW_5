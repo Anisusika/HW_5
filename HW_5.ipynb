{
 "cells": [
  {
   "cell_type": "code",
   "execution_count": 1,
   "metadata": {},
   "outputs": [],
   "source": [
    "import json"
   ]
  },
  {
   "cell_type": "code",
   "execution_count": 2,
   "metadata": {},
   "outputs": [],
   "source": [
    "with open('purchase_log.txt', encoding='utf-8') as f:\n",
    "    id_list = []\n",
    "    category_list = []\n",
    "    \n",
    "    for line in f:\n",
    "        line = line.strip()\n",
    "        \n",
    "        dict_ = json.loads(line)\n",
    "        \n",
    "        id_list.append(dict_['user_id'])\n",
    "        category_list.append(dict_['category'])\n",
    "\n",
    "purchases = dict(zip(id_list, category_list))"
   ]
  },
  {
   "cell_type": "code",
   "execution_count": 9,
   "metadata": {},
   "outputs": [],
   "source": [
    "with open ('visit_log.csv', 'r', encoding = 'utf-8') as f2read:\n",
    "    with open ('funnel.csv', 'w', encoding = 'utf-8') as f_write:\n",
    "        for line in f2read:\n",
    "            if line.strip().split(',')[0] in purchases.keys():\n",
    "                list_w_type = list(line.strip().split(','))\n",
    "                list_w_type.append(purchases[line.strip().split(',')[0]])\n",
    "                f_write.write(str(list_w_type) + '\\n')"
   ]
  },
  {
   "cell_type": "code",
   "execution_count": 11,
   "metadata": {},
   "outputs": [
    {
     "name": "stdout",
     "output_type": "stream",
     "text": [
      "['user_id', 'source', 'category']\n",
      "\n",
      "['1840e0b9d4', 'other', 'Продукты']\n",
      "\n",
      "['4e4f90fcfb', 'context', 'Электроника']\n",
      "\n",
      "['afea8d72fc', 'other', 'Электроника']\n",
      "\n",
      "['2824221f38', 'email', 'Продукты']\n",
      "\n",
      "['373a6055fe', 'other', 'Бытовая техника']\n",
      "\n"
     ]
    }
   ],
   "source": [
    "with open('funnel.csv', 'r', encoding='utf-8') as e:\n",
    "    z = 0\n",
    "    for line in e:\n",
    "        print(line)\n",
    "        \n",
    "        z += 1\n",
    "        if z > 5:\n",
    "            break"
   ]
  },
  {
   "cell_type": "code",
   "execution_count": null,
   "metadata": {},
   "outputs": [],
   "source": []
  }
 ],
 "metadata": {
  "kernelspec": {
   "display_name": "Python 3",
   "language": "python",
   "name": "python3"
  },
  "language_info": {
   "codemirror_mode": {
    "name": "ipython",
    "version": 3
   },
   "file_extension": ".py",
   "mimetype": "text/x-python",
   "name": "python",
   "nbconvert_exporter": "python",
   "pygments_lexer": "ipython3",
   "version": "3.8.5"
  }
 },
 "nbformat": 4,
 "nbformat_minor": 4
}
